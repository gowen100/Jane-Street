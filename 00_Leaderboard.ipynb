{
 "cells": [
  {
   "cell_type": "code",
   "execution_count": null,
   "id": "aee3e61a-44eb-4bca-8d4d-b2aee5d331e0",
   "metadata": {},
   "outputs": [],
   "source": [
    "import requests\n",
    "from bs4 import BeautifulSoup,SoupStrainer\n",
    "import pandas as pd\n",
    "from IPython.display import Markdown, display,HTML,Image\n",
    "from selenium import webdriver\n",
    "import time"
   ]
  },
  {
   "cell_type": "code",
   "execution_count": null,
   "id": "03cf5f93-b58f-4f3f-a8d2-0ed0d2d2ee99",
   "metadata": {},
   "outputs": [],
   "source": [
    "# get the solution links\n",
    "pages = ['https://www.janestreet.com/puzzles/archive/index.html',\n",
    "         'https://www.janestreet.com/puzzles/archive/page2/index.html',\n",
    "         'https://www.janestreet.com/puzzles/archive/page3/index.html',\n",
    "         'https://www.janestreet.com/puzzles/archive/page4/index.html',\n",
    "         'https://www.janestreet.com/puzzles/archive/page5/index.html',\n",
    "         'https://www.janestreet.com/puzzles/archive/page6/index.html',\n",
    "         'https://www.janestreet.com/puzzles/archive/page7/index.html',\n",
    "         'https://www.janestreet.com/puzzles/archive/page8/index.html',\n",
    "         'https://www.janestreet.com/puzzles/archive/page9/index.html',\n",
    "         'https://www.janestreet.com/puzzles/archive/page10/index.html',\n",
    "         'https://www.janestreet.com/puzzles/archive/page11/index.html',\n",
    "         'https://www.janestreet.com/puzzles/archive/page12/index.html']  \n",
    "links = ['https://www.janestreet.com/puzzles/current-puzzle/']\n",
    "for url in pages:\n",
    "    res = requests.get(url)\n",
    "    soup = BeautifulSoup(res.content, 'html.parser')\n",
    "    links += ['https://www.janestreet.com/'+i['href'] for i in soup.find_all('a', {'class' :'solution-link'})]   "
   ]
  },
  {
   "cell_type": "code",
   "execution_count": null,
   "id": "05bea8ec-259c-4690-bea5-4181d37ba86e",
   "metadata": {},
   "outputs": [],
   "source": [
    "# scrape the names of solvers\n",
    "participants = []\n",
    "order = 1\n",
    "driver = webdriver.Firefox()\n",
    "for url in links:\n",
    "    driver.get(url)\n",
    "    time.sleep(5)\n",
    "    htmlSource = driver.page_source\n",
    "    soup = BeautifulSoup(htmlSource, 'html.parser')\n",
    "    participants += [[str(url).split(\"/\")[-1],i.split(\" (\")[0],order] for i in soup.find_all('p', {'class' :'correct-submissions'})[0].stripped_strings]\n",
    "    #print([[str(url).split(\"/\")[-1],i.split(\" (\")[0],order] for i in soup.find_all('p', {'class' :'correct-submissions'})[0].stripped_strings])\n",
    "    order +=1"
   ]
  },
  {
   "cell_type": "code",
   "execution_count": null,
   "id": "bf62bc17-8413-4748-abf9-34ea16736cf4",
   "metadata": {},
   "outputs": [],
   "source": [
    "# Work out the scores with an offset\n",
    "\n",
    "newcomer_offset = 4\n",
    "\n",
    "df = pd.DataFrame(participants,columns = ['puzzle','name','order'])\n",
    "df2 = df[['name','order']].groupby('name').agg({'name':['count'],'order': ['max']})\n",
    "df2.columns = [' '.join(col).strip() for col in df2.columns.values]\n",
    "df2.columns = ['Solved','Attempted']\n",
    "df2['score']=df2['Solved']/(df2['Attempted']+ newcomer_offset)\n",
    "df2.sort_values('score',ascending=False)[:20]"
   ]
  },
  {
   "cell_type": "code",
   "execution_count": null,
   "id": "e89665d4-dcf1-4f39-87cc-3f748d1b1bf1",
   "metadata": {},
   "outputs": [],
   "source": [
    "order =0\n",
    "driver = webdriver.Firefox()\n",
    "for url in ['https://www.janestreet.com/puzzles/current-puzzle/']:\n",
    "    driver.get(url)\n",
    "    time.sleep(5)\n",
    "    htmlSource = driver.page_source\n",
    "    soup = BeautifulSoup(htmlSource, 'html.parser')\n",
    "    participants += [[str(url).split(\"/\")[-1],i.split(\" (\")[0],order] for i in soup.find_all('p', {'class' :'correct-submissions'})[0].stripped_strings]\n",
    "    #print([[str(url).split(\"/\")[-1],i.split(\" (\")[0],order] for i in soup.find_all('p', {'class' :'correct-submissions'})[0].stripped_strings])\n"
   ]
  },
  {
   "cell_type": "code",
   "execution_count": null,
   "id": "ae951897-bb63-4861-b4fd-170cca84e376",
   "metadata": {},
   "outputs": [],
   "source": []
  }
 ],
 "metadata": {
  "kernelspec": {
   "display_name": "Python 3 (ipykernel)",
   "language": "python",
   "name": "python3"
  },
  "language_info": {
   "codemirror_mode": {
    "name": "ipython",
    "version": 3
   },
   "file_extension": ".py",
   "mimetype": "text/x-python",
   "name": "python",
   "nbconvert_exporter": "python",
   "pygments_lexer": "ipython3",
   "version": "3.9.12"
  }
 },
 "nbformat": 4,
 "nbformat_minor": 5
}
