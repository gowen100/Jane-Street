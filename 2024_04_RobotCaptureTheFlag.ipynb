{
 "cells": [
  {
   "cell_type": "code",
   "execution_count": 1,
   "id": "46823cb5-38bc-44d0-8cd7-22b98fcb380b",
   "metadata": {},
   "outputs": [],
   "source": [
    "import numpy as np\n",
    "import matplotlib.pyplot as plt\n",
    "import requests\n",
    "from bs4 import BeautifulSoup\n",
    "from IPython.display import Markdown, display,IFrame,HTML,Image\n",
    "\n",
    "from scipy.optimize import minimize\n",
    "from scipy.integrate import quad"
   ]
  },
  {
   "cell_type": "code",
   "execution_count": 2,
   "id": "7cc3a8b7-12ee-4ac5-b074-ffe705030f4d",
   "metadata": {},
   "outputs": [
    {
     "data": {
      "text/markdown": [
       "### Robot Capture-the-Flag\n",
       "It’s been a while and change, but the\n",
       "Robot\n",
       "Games\n",
       "are back once again. This time it’s\n",
       "Capture the Flag\n",
       "!\n",
       "Two robots, Aaron and Erin, have made it to this year’s final! Initially they are situated at the center of a unit circle. A\n",
       "flag\n",
       "is placed somewhere inside the circle, at a location chosen uniformly at random. Once the flag is placed, Aaron is able to deduce its\n",
       "distance\n",
       "to the flag, and Erin is only able to deduce its\n",
       "direction\n",
       "to the flag. (Equivalently: if (\n",
       "r\n",
       ",\n",
       "θ\n",
       ") are the polar coordinates of the flag’s location, Aaron is told\n",
       "r\n",
       "and Erin is told\n",
       "θ\n",
       ".)\n",
       "Both robots are allowed to make a\n",
       "single move\n",
       "after the flag is placed, if they wish. Any move they make is without knowledge of what the other robot is doing. (And they may not move outside the circle.)\n",
       "Whichever robot is\n",
       "closer\n",
       "to the flag after these moves\n",
       "captures\n",
       "the flag and is declared the winner!\n",
       "During the preliminaries it was discovered that Erin is programmed to play a fixed distance along the detected angle\n",
       "θ"
      ],
      "text/plain": [
       "<IPython.core.display.Markdown object>"
      ]
     },
     "metadata": {},
     "output_type": "display_data"
    }
   ],
   "source": [
    "url='https://www.janestreet.com/puzzles/robot-capture-the-flag-index/'\n",
    "res = requests.get(url)\n",
    "soup = BeautifulSoup(res.content, 'html.parser')\n",
    "y =[text.replace(\">\",\"greater than\") for text in soup.body.stripped_strings]\n",
    "\n",
    "#display([(i,j) for i,j in enumerate(y)])\n",
    "display(Markdown(\"### \"+y[13]+\"\\n\"+\"\\n\".join(y[16:47])))"
   ]
  },
  {
   "cell_type": "code",
   "execution_count": 3,
   "id": "96873de6-5ed6-4105-a852-1e23de568c31",
   "metadata": {
    "tags": []
   },
   "outputs": [
    {
     "data": {
      "text/markdown": [
       "## Erin's best strategy is to jump *0.5013064106* giving Aaron a *0.1661864865* chance of winning"
      ],
      "text/plain": [
       "<IPython.core.display.Markdown object>"
      ]
     },
     "metadata": {},
     "output_type": "display_data"
    }
   ],
   "source": [
    "# Erin strategy => jump x in direction of theta\n",
    "# Aaron strategy stay at center if r < x/2  otherwise jump a distance y that maximises the chance of winning \n",
    "# Erin minimises the chance of an aaron win\n",
    "\n",
    "theta = lambda r, x: np.arcsin(np.abs(r-x)/r)/np.pi * 2 * r   \n",
    "prob_aron_win = lambda x: (x/2)**2 + quad(theta, x/2, 1,args=(x,))[0]  \n",
    "\n",
    "solved = minimize(prob_aron_win, x0=0.5, bounds=[(0,1)])\n",
    "\n",
    "display(Markdown(\"## Erin's best strategy is to jump *{:.10f}* giving Aaron a *{:.10f}* chance of winning\".format(solved['x'][0],solved['fun'])))"
   ]
  },
  {
   "cell_type": "code",
   "execution_count": 4,
   "id": "97a139aa-a991-43e1-be1a-3776762bc15b",
   "metadata": {},
   "outputs": [
    {
     "data": {
      "text/markdown": [
       "### Robot Capture-the-Flag\n",
       "Aaron has learned that Erin always plays a fixed distance — call it\n",
       "e\n",
       "— along the correct angle. Erin knows that Aaron knows this, and that Aaron will pick a distance\n",
       "a\n",
       "(and an angle at random, presumably) to maximize\n",
       "P\n",
       "(Aaron wins). So Erin should pick a value for\n",
       "e\n",
       "that minimizes this probability.\n",
       "So we need to determine\n",
       "P\n",
       "(Aaron wins) for given values of\n",
       "e\n",
       "and\n",
       "r\n",
       ". If\n",
       "r\n",
       "is less than\n",
       "e\n",
       "/2, Aaron should choose to stay at the center, thus guaranteeing a win. Otherwise, Aaron should pick the distance\n",
       "a\n",
       "that maximizes the\n",
       "fraction\n",
       "of the circle of radius\n",
       "a\n",
       "located within a distance of |\n",
       "r\n",
       "−\n",
       "e\n",
       "| of the flag.\n",
       "Maximizing the fraction of the circle of radius"
      ],
      "text/plain": [
       "<IPython.core.display.Markdown object>"
      ]
     },
     "metadata": {},
     "output_type": "display_data"
    }
   ],
   "source": [
    "url='https://www.janestreet.com/puzzles/robot-capture-the-flag-solution/'\n",
    "res = requests.get(url)\n",
    "soup = BeautifulSoup(res.content, 'html.parser')\n",
    "y =[text for text in soup.body.stripped_strings]\n",
    "\n",
    "#display([(i,j) for i,j in enumerate(y)])\n",
    "display(Markdown(\"### \"+y[13]+\"\\n\"+\"\\n\".join(y[16:47])))"
   ]
  },
  {
   "cell_type": "code",
   "execution_count": null,
   "id": "35092b48-b04c-49c1-861d-e91b56994be7",
   "metadata": {},
   "outputs": [],
   "source": []
  }
 ],
 "metadata": {
  "kernelspec": {
   "display_name": "Python 3 (ipykernel)",
   "language": "python",
   "name": "python3"
  },
  "language_info": {
   "codemirror_mode": {
    "name": "ipython",
    "version": 3
   },
   "file_extension": ".py",
   "mimetype": "text/x-python",
   "name": "python",
   "nbconvert_exporter": "python",
   "pygments_lexer": "ipython3",
   "version": "3.9.12"
  }
 },
 "nbformat": 4,
 "nbformat_minor": 5
}
