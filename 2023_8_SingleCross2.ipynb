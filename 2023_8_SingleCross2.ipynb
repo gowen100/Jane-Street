{
 "cells": [
  {
   "cell_type": "code",
   "execution_count": 1,
   "id": "f541aa51-9fc6-4e62-82bf-0352555ebf1a",
   "metadata": {},
   "outputs": [],
   "source": [
    "import time\n",
    "import sympy as sp\n",
    "import numpy as np\n",
    "import requests\n",
    "from bs4 import BeautifulSoup\n",
    "from IPython.display import Markdown, display,IFrame,HTML,Image\n",
    "from sympy.plotting import plot\n",
    "import matplotlib.pyplot as plt"
   ]
  },
  {
   "cell_type": "code",
   "execution_count": 2,
   "id": "6d2a4d3d-753b-44e1-a399-33ba5221f6ff",
   "metadata": {},
   "outputs": [
    {
     "data": {
      "text/markdown": [
       "### Puzzle as published \n",
       "https://www.janestreet.com/puzzles/single-cross-2-index/"
      ],
      "text/plain": [
       "<IPython.core.display.Markdown object>"
      ]
     },
     "metadata": {},
     "output_type": "display_data"
    },
    {
     "data": {
      "text/markdown": [
       "### Single-Cross 2\n",
       "\n",
       "Show Solution\n",
       "Consider 3-space (i.e.\n",
       "R\n",
       "3\n",
       ") partitioned into a grid of unit\n",
       "cubes with faces defined by the planes of all points with at least one\n",
       "integer coordinate. For a fixed positive real number\n",
       "D\n",
       ", a random\n",
       "line segment of length\n",
       "D\n",
       "(chosen uniformly in location and\n",
       "orientation) is placed in this cubic lattice.\n",
       "What length\n",
       "D\n",
       "maximizes the probability that the endpoints of the\n",
       "segment lie in orthogonally adjacent unit cubes (that is, the segment\n",
       "crosses exactly one integer-coordinate plane), and what is this\n",
       "maximal probability? Give your answer as a\n",
       "comma-separated pair of\n",
       "values to 10 significant places"
      ],
      "text/plain": [
       "<IPython.core.display.Markdown object>"
      ]
     },
     "metadata": {},
     "output_type": "display_data"
    }
   ],
   "source": [
    "url='https://www.janestreet.com/puzzles/single-cross-2-index/'\n",
    "res = requests.get(url)\n",
    "soup = BeautifulSoup(res.content, 'html.parser')\n",
    "display(Markdown('### Puzzle as published \\n'+url))\n",
    "y =[text for text in soup.body.stripped_strings]\n",
    "#display([(i,j) for i,j in enumerate(y)])\n",
    "display(Markdown(\"### \"+y[8]+\"\\n\\n\"+str(\"\\n\".join(y[10:23]))))"
   ]
  },
  {
   "cell_type": "code",
   "execution_count": 3,
   "id": "b8cc60e2-6432-4afe-ab78-2aa2c662677a",
   "metadata": {},
   "outputs": [
    {
     "data": {
      "text/markdown": [
       "Probability is : $\\frac{2 D \\left(2 - D\\right)}{\\pi}$"
      ],
      "text/plain": [
       "<IPython.core.display.Markdown object>"
      ]
     },
     "metadata": {},
     "output_type": "display_data"
    },
    {
     "name": "stdout",
     "output_type": "stream",
     "text": [
      "\n",
      "\n"
     ]
    },
    {
     "data": {
      "image/png": "[encoded data removed]",
      "text/plain": [
       "<Figure size 432x144 with 1 Axes>"
      ]
     },
     "metadata": {
      "needs_background": "light"
     },
     "output_type": "display_data"
    },
    {
     "name": "stdout",
     "output_type": "stream",
     "text": [
      "\n"
     ]
    }
   ],
   "source": [
    "# Think about the 2D case. Have the solution from the previous puzzle\n",
    "# In the first quadrant of a circle the line covers a distance of cos(theta) along the x-axis and sin(theta) \n",
    "# along the y-axis, and so has a probability of 1−cos(theta)\n",
    "# of not hitting a vertical line, a probability of sin(theta) of hitting the horizontal line\n",
    "# want to average this across all theta so integrate in polar coords 0 - pi/2 and divide by pi/2\n",
    "\n",
    "D,theta,phi = sp.symbols(\"D theta phi\")\n",
    "\n",
    "x = D*sp.sin(theta)\n",
    "y = D*sp.cos(theta)\n",
    "\n",
    "# to get the probability multiply by 2 to get the probability of either hitting the x or y axis\n",
    "# divide by the interval to get the average.\n",
    "# Jacobian determinant is r but we are not integrating over that so ignore\n",
    "\n",
    "prob = 2/(sp.pi/2)*sp.integrate((1-x)*y,(theta,0,sp.pi/2)).simplify()\n",
    "display(Markdown(\"Probability is : $\"+sp.latex(prob)+\"$\"))\n",
    "print(\"\\n\")\n",
    "plot(prob,(D,0,2**.5),size=(6,2))\n",
    "print(\"\")"
   ]
  },
  {
   "cell_type": "code",
   "execution_count": 4,
   "id": "9fc47ac6-575d-4204-92ef-ee0a8f855c08",
   "metadata": {},
   "outputs": [
    {
     "data": {
      "text/markdown": [
       "Optimal length when D = $1$\n"
      ],
      "text/plain": [
       "<IPython.core.display.Markdown object>"
      ]
     },
     "metadata": {},
     "output_type": "display_data"
    },
    {
     "name": "stdout",
     "output_type": "stream",
     "text": [
      "\n",
      "\n"
     ]
    },
    {
     "data": {
      "text/markdown": [
       "With a probability of $\\frac{2}{\\pi}$"
      ],
      "text/plain": [
       "<IPython.core.display.Markdown object>"
      ]
     },
     "metadata": {},
     "output_type": "display_data"
    }
   ],
   "source": [
    "#differentiate to get the max and then substitute\n",
    "Eq1 = sp.diff(prob).simplify()\n",
    "soln =sp.solve(sp.Eq(Eq1,0))[0]\n",
    "display(Markdown(\"Optimal length when D = $\"+sp.latex(soln)+\"$\\n\"))\n",
    "print(\"\\n\")\n",
    "display(Markdown(\"With a probability of $\"+sp.latex(prob.subs(D,soln))+\"$\"))\n"
   ]
  },
  {
   "cell_type": "code",
   "execution_count": 5,
   "id": "2c888452-8d4b-4028-bf1f-05a36ffe17fc",
   "metadata": {},
   "outputs": [
    {
     "data": {
      "text/markdown": [
       "Probability is : $\\frac{D \\left(3 D^{2} - 16 D + 6 \\pi\\right)}{4 \\pi}$"
      ],
      "text/plain": [
       "<IPython.core.display.Markdown object>"
      ]
     },
     "metadata": {},
     "output_type": "display_data"
    },
    {
     "name": "stdout",
     "output_type": "stream",
     "text": [
      "\n",
      "\n"
     ]
    },
    {
     "data": {
      "image/png": "[encoded data removed]",
      "text/plain": [
       "<Figure size 432x144 with 1 Axes>"
      ]
     },
     "metadata": {
      "needs_background": "light"
     },
     "output_type": "display_data"
    },
    {
     "name": "stdout",
     "output_type": "stream",
     "text": [
      "\n"
     ]
    }
   ],
   "source": [
    "# extend to 3D\n",
    "x = D*sp.sin(theta)*sp.cos(phi)\n",
    "y = D*sp.sin(theta)*sp.sin(phi)\n",
    "z = D*sp.cos(theta)\n",
    "Jacobian = sp.sin(theta) #again ignore r**2\n",
    "\n",
    "prob = 3/(sp.pi/2)*sp.integrate((1-x)*(1-y)*z*Jacobian,(theta,0,sp.pi/2),(phi,0,sp.pi/2)).simplify()\n",
    "display(Markdown(\"Probability is : $\"+ sp.latex(prob)+\"$\"))\n",
    "print(\"\\n\")\n",
    "plot(prob,(D,0,1),size=(6,2))\n",
    "print(\"\")"
   ]
  },
  {
   "cell_type": "code",
   "execution_count": 6,
   "id": "014d09fb-d222-4e4a-8948-d190c15a86da",
   "metadata": {},
   "outputs": [
    {
     "data": {
      "text/markdown": [
       "Optimal length when D = $\\frac{16}{9} - \\frac{\\sqrt{256 - 54 \\pi}}{9}$"
      ],
      "text/plain": [
       "<IPython.core.display.Markdown object>"
      ]
     },
     "metadata": {},
     "output_type": "display_data"
    },
    {
     "name": "stdout",
     "output_type": "stream",
     "text": [
      "\n",
      "\n"
     ]
    },
    {
     "data": {
      "text/markdown": [
       "With a probability = $\\frac{\\left(\\frac{16}{9} - \\frac{\\sqrt{256 - 54 \\pi}}{9}\\right) \\left(- \\frac{256}{9} + 3 \\left(\\frac{16}{9} - \\frac{\\sqrt{256 - 54 \\pi}}{9}\\right)^{2} + \\frac{16 \\sqrt{256 - 54 \\pi}}{9} + 6 \\pi\\right)}{4 \\pi}$"
      ],
      "text/plain": [
       "<IPython.core.display.Markdown object>"
      ]
     },
     "metadata": {},
     "output_type": "display_data"
    },
    {
     "name": "stdout",
     "output_type": "stream",
     "text": [
      "\n"
     ]
    }
   ],
   "source": [
    "Eq1 = sp.diff(prob).simplify()\n",
    "soln =sp.solve(sp.Eq(Eq1,0))[0]\n",
    "display(Markdown(\"Optimal length when D = $\"+sp.latex(soln)+\"$\"))\n",
    "print(\"\\n\")\n",
    "display(Markdown(\"With a probability = $\"+sp.latex(prob.subs(D,soln))+\"$\"))\n",
    "print(\"\")"
   ]
  },
  {
   "cell_type": "code",
   "execution_count": 7,
   "id": "635a14bc-e6e6-4bd2-a195-8a7d47b4074d",
   "metadata": {},
   "outputs": [
    {
     "data": {
      "text/markdown": [
       "Solution is : **0.7452572091 , 0.5095346021**"
      ],
      "text/plain": [
       "<IPython.core.display.Markdown object>"
      ]
     },
     "metadata": {},
     "output_type": "display_data"
    }
   ],
   "source": [
    "display(Markdown(\"Solution is : **{:.10f} , {:.10f}**\".format(soln,prob.subs(D,soln).evalf())))"
   ]
  },
  {
   "cell_type": "code",
   "execution_count": 8,
   "id": "ea3b0f74-28e6-4205-872d-0a23fcf2e9cf",
   "metadata": {},
   "outputs": [
    {
     "data": {
      "text/markdown": [
       "### Solution as published \n",
       "https://www.janestreet.com/puzzles/single-cross-2-solution/"
      ],
      "text/plain": [
       "<IPython.core.display.Markdown object>"
      ]
     },
     "metadata": {},
     "output_type": "display_data"
    },
    {
     "data": {
      "text/markdown": [
       "### Single-Cross 2\n",
       "\n",
       "Show Puzzle\n",
       "August’s puzzle was a three dimensional throwback to\n",
       "Single Cross\n",
       "from three years ago. Careful computation determined that for lengths D <= 1, the probability of a single cross comes to the pleasantly symmetric spherical coordinate double integral. (As seen above.)\n",
       "This double integral miraculously simplifies to (1/(4π))*D(-16D + 3D^2 + 6π). This function has a local maximum at D = (16 - sqrt(256 - 54π))/9 ~\n",
       "0.7452572091\n",
       ", with value ~\n",
       "0.5095346021\n",
       ". The argument that there can’t be a second higher local maximum with D > 1 is left to the puzzler.\n",
       "Congrats to this month’s solvers who successfully completed the optimal length and probability!"
      ],
      "text/plain": [
       "<IPython.core.display.Markdown object>"
      ]
     },
     "metadata": {},
     "output_type": "display_data"
    }
   ],
   "source": [
    "url='https://www.janestreet.com/puzzles/single-cross-2-solution/'\n",
    "res = requests.get(url)\n",
    "soup = BeautifulSoup(res.content, 'html.parser')\n",
    "display(Markdown('### Solution as published \\n'+url))\n",
    "y =[text for text in soup.body.stripped_strings]\n",
    "#display([(i,j) for i,j in enumerate(y)])\n",
    "display(Markdown(\"### \"+y[8]+\"\\n\\n\"+str(\"\\n\".join(y[10:20]))))"
   ]
  },
  {
   "cell_type": "code",
   "execution_count": 9,
   "id": "9c14640b-e400-47ff-a26f-033412a214f1",
   "metadata": {},
   "outputs": [
    {
     "data": {
      "text/latex": [
       "$\\displaystyle r^{2} \\sin{\\left(\\theta \\right)}$"
      ],
      "text/plain": [
       "r**2*sin(theta)"
      ]
     },
     "execution_count": 9,
     "metadata": {},
     "output_type": "execute_result"
    }
   ],
   "source": [
    "#compute jacobian\n",
    "r, theta, phi = sp.symbols('r theta phi')\n",
    "\n",
    "# Define the transformation equations\n",
    "x = r * sp.sin(theta) * sp.cos(phi)\n",
    "y = r * sp.sin(theta) * sp.sin(phi)\n",
    "z = r * sp.cos(theta)\n",
    "\n",
    "# Create the Jacobian matrix\n",
    "J = sp.Matrix([\n",
    "    [x.diff(r), x.diff(theta), x.diff(phi)],\n",
    "    [y.diff(r), y.diff(theta), y.diff(phi)],\n",
    "    [z.diff(r), z.diff(theta), z.diff(phi)]\n",
    "])\n",
    "\n",
    "# Compute the determinant of the Jacobian matrix\n",
    "J_det = J.det()\n",
    "\n",
    "J_det.simplify()\n"
   ]
  },
  {
   "cell_type": "code",
   "execution_count": null,
   "id": "c1a5c173-2f5c-4ecf-8712-d6b2e160a64a",
   "metadata": {},
   "outputs": [],
   "source": []
  }
 ],
 "metadata": {
  "kernelspec": {
   "display_name": "Python 3 (ipykernel)",
   "language": "python",
   "name": "python3"
  },
  "language_info": {
   "codemirror_mode": {
    "name": "ipython",
    "version": 3
   },
   "file_extension": ".py",
   "mimetype": "text/x-python",
   "name": "python",
   "nbconvert_exporter": "python",
   "pygments_lexer": "ipython3",
   "version": "3.9.12"
  }
 },
 "nbformat": 4,
 "nbformat_minor": 5
}
