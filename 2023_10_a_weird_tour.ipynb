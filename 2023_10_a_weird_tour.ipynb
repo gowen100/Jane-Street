{
 "cells": [
  {
   "cell_type": "code",
   "execution_count": 1,
   "id": "aadb1f38-60df-4a24-a996-6b53a20ee299",
   "metadata": {},
   "outputs": [],
   "source": [
    "from english_words import get_english_words_set\n",
    "import itertools\n",
    "import numpy as np\n",
    "\n",
    "import requests\n",
    "from bs4 import BeautifulSoup\n",
    "from IPython.display import Markdown, display,IFrame,HTML,Image"
   ]
  },
  {
   "cell_type": "code",
   "execution_count": 2,
   "id": "7a321981-03a0-4db4-aabc-8ab81f1eab10",
   "metadata": {},
   "outputs": [
    {
     "data": {
      "text/markdown": [
       "### A Weird Tour\n",
       "Show Solution \n",
       " My journey across this bizarre planet is complete, even though I only\n",
       "visited 11 of the 120 regions with their strange gradually shifting\n",
       "dialects. Over the trip I swapped ends of the planet using a variety\n",
       "of methods of transport between each destination. Below are some\n",
       "clues to the names of the regions I visited for all but the fifth…\n",
       "maybe you can help me fill in my itinerary with the name of that\n",
       "strange fifth country? \n",
       " I started in \n",
       " 1.  Unserious \n",
       " Then I took a \n",
       " plane \n",
       " to \n",
       " 2.  Social (1,6,8) \n",
       " I took a \n",
       " tour \n",
       " to get to \n",
       " 3.  Learning about (3 words) (8,9) \n",
       " Then switched to a \n",
       " big bus \n",
       " to make it to \n",
       " 4.  Weakness \n",
       " Then a \n",
       " subway \n",
       " got me to \n",
       " 5.  ??? \n",
       " From there I walked through a \n",
       " tunnel \n",
       " to arrive at \n",
       " 6.  Game series (2 words) (4) \n",
       " A long \n",
       " train \n",
       " ride got me to \n",
       " 7.  Superstar artist (2 words) (1) \n",
       " Then I hopped on a \n",
       " boat \n",
       " to \n",
       " 8.  Sign of doubt (2 words) (3) \n",
       " I rode a \n",
       " bike \n",
       " to \n",
       " 9.  Exec (11) \n",
       " Then a friendly \n",
       " horse \n",
       " carried me on to \n",
       " 10.  Suddenly emote (3 words) (11) \n",
       " Finally, a \n",
       " limo \n",
       " drove me to my ultimate stop:"
      ],
      "text/plain": [
       "<IPython.core.display.Markdown object>"
      ]
     },
     "metadata": {},
     "output_type": "display_data"
    }
   ],
   "source": [
    "url='https://www.janestreet.com/puzzles/a-weird-tour-index/'\n",
    "res = requests.get(url)\n",
    "soup = BeautifulSoup(res.content, 'html.parser')\n",
    "y =[text for text in soup.body.stripped_strings]\n",
    "#display([(i,j) for i,j in enumerate(y)])\n",
    "display(Markdown(\"### \"+y[8]+\"\\n\"+\" \\n \".join(y[10:53])))"
   ]
  },
  {
   "cell_type": "code",
   "execution_count": 3,
   "id": "5c701105-fbe8-493a-9b37-72c97d5013ab",
   "metadata": {},
   "outputs": [
    {
     "data": {
      "text/plain": [
       "234450"
      ]
     },
     "execution_count": 3,
     "metadata": {},
     "output_type": "execute_result"
    }
   ],
   "source": [
    "words = get_english_words_set(['web2'], lower=True)\n",
    "len(words)"
   ]
  },
  {
   "cell_type": "code",
   "execution_count": 4,
   "id": "74d783e2-f328-438f-b7a1-40a1decc4480",
   "metadata": {},
   "outputs": [],
   "source": [
    "vowels = ['a','e','i','o','u']\n",
    "keyfunc = lambda x:\"\".join([i for i in x if i in vowels])\n",
    "getter = lambda x,y:[x.replace(\" \",\"\")[i-1] for i in y]"
   ]
  },
  {
   "cell_type": "code",
   "execution_count": 5,
   "id": "faaedb80-4403-4ed8-ae03-50757da72503",
   "metadata": {},
   "outputs": [
    {
     "name": "stdout",
     "output_type": "stream",
     "text": [
      "['annelidous', 'affectious', 'facetiously', 'majestious', 'arterious', 'abstentious', 'fracedinous', 'caesious', 'arsenious', 'abstemious', 'acleistous', 'facetious', 'bacterious', 'acheirous', 'abstemiously', 'acheilous']\n"
     ]
    }
   ],
   "source": [
    "print([i for i in words if keyfunc(i)=='aeiou'])"
   ]
  },
  {
   "cell_type": "code",
   "execution_count": 6,
   "id": "17c25edf-2912-4cb3-83fc-132ead50d104",
   "metadata": {},
   "outputs": [
    {
     "name": "stdout",
     "output_type": "stream",
     "text": [
      "=> start with aeiou\n",
      "Unserious\n",
      "facetious aeiou [] \n",
      "\n",
      "=> Swap a and e from plane\n",
      "Social (1,6,8)\n",
      "gregarious eaiou ['g', 'r', 'o'] \n",
      "\n",
      "=> Swap o and u from tour\n",
      "Learning about (3 words) (8,9)\n",
      "reading up on  eaiuo ['u', 'p'] \n",
      "\n",
      "=> Swap i and u from big bus\n",
      "Weakness\n",
      "exhaustion eauio [] \n",
      "\n",
      "=> Swap u and a from subway\n",
      "???\n",
      "permutation euaio [] \n",
      "\n",
      "=> Swap u and e from tunnel\n",
      "Game series (2 words) (4)\n",
      "Super Mario ueaio ['e'] \n",
      "\n",
      "=> Swap a and i from train\n",
      "Superstar artist (2 words) (1)\n",
      "Luther Vandross ueao ['L'] \n",
      "\n",
      "=> Swap o and a from boat\n",
      "Sign of doubt (2 words) (3)\n",
      "question mark ueioa ['e'] \n",
      "\n",
      "=> Swap i and e from bike\n",
      "Exec (11)\n",
      "businesswoman uieoa ['m'] \n",
      "\n",
      "=> Swap o and e from horse\n",
      "Suddenly emote (3 words) (11)\n",
      "quickly oh dear uioea ['e'] \n",
      "\n",
      "=> Swap o and i from limo\n",
      "South Asian (9,12)\n",
      "subcontinental uoiea ['n', 't'] \n",
      "\n",
      "The 5th question is:  groupeLement\n"
     ]
    }
   ],
   "source": [
    "answer =[]\n",
    "print('=> start with aeiou')\n",
    "print(\"Unserious\")\n",
    "solution = 'facetious'\n",
    "letters =[]\n",
    "out = getter(solution,letters)\n",
    "answer += out\n",
    "print(solution,\"\".join([i for i in solution if i in vowels]),out,\"\\n\")\n",
    "\n",
    "print(\"=> Swap a and e from plane\")\n",
    "print(\"Social (1,6,8)\")\n",
    "solution = 'gregarious'\n",
    "letters =[1,6,8]\n",
    "out = getter(solution,letters)\n",
    "answer += out\n",
    "print(solution,\"\".join([i for i in solution if i in vowels]),out,\"\\n\") \n",
    "\n",
    "print(\"=> Swap o and u from tour\")\n",
    "print(\"Learning about (3 words) (8,9)\")\n",
    "solution = 'reading up on '\n",
    "letters =[8,9]\n",
    "out = getter(solution,letters)\n",
    "answer += out\n",
    "print(solution,\"\".join([i for i in solution if i in vowels]),out,\"\\n\") \n",
    "\n",
    "print(\"=> Swap i and u from big bus\")\n",
    "print(\"Weakness\")\n",
    "solution = 'exhaustion'\n",
    "letters =[]\n",
    "out = getter(solution,letters)\n",
    "answer += out\n",
    "print(solution,\"\".join([i for i in solution if i in vowels]),out,\"\\n\") \n",
    "\n",
    "print(\"=> Swap u and a from subway\")\n",
    "print(\"???\")\n",
    "solution = 'permutation'\n",
    "letters =[]\n",
    "out = getter(solution,letters)\n",
    "answer += out\n",
    "print(solution,\"\".join([i for i in solution if i in vowels]),out,\"\\n\") \n",
    "\n",
    "print(\"=> Swap u and e from tunnel\")\n",
    "print(\"Game series (2 words) (4)\")\n",
    "solution = 'Super Mario'\n",
    "letters =[4]\n",
    "out = getter(solution,letters)\n",
    "answer += out\n",
    "print(solution,\"\".join([i for i in solution if i in vowels]),out,\"\\n\")\n",
    "\n",
    "print(\"=> Swap a and i from train\")\n",
    "print(\"Superstar artist (2 words) (1)\")\n",
    "solution = 'Luther Vandross'\n",
    "letters =[1]\n",
    "out = getter(solution,letters)\n",
    "answer += out\n",
    "print(solution,\"\".join([i for i in solution if i in vowels]),out,\"\\n\") \n",
    "\n",
    "print(\"=> Swap o and a from boat\")\n",
    "print(\"Sign of doubt (2 words) (3)\")\n",
    "solution = 'question mark'\n",
    "letters =[3]\n",
    "out = getter(solution,letters)\n",
    "answer += out\n",
    "print(solution,\"\".join([i for i in solution if i in vowels]),out,\"\\n\") \n",
    "\n",
    "print(\"=> Swap i and e from bike\")\n",
    "print(\"Exec (11)\")\n",
    "solution = 'businesswoman'\n",
    "letters =[11]\n",
    "out = getter(solution,letters)\n",
    "answer += out\n",
    "print(solution,\"\".join([i for i in solution if i in vowels]),out,\"\\n\") \n",
    "\n",
    "print(\"=> Swap o and e from horse\")\n",
    "print(\"Suddenly emote (3 words) (11)\")\n",
    "solution = 'quickly oh dear'\n",
    "letters =[11]\n",
    "out = getter(solution,letters)\n",
    "answer += out\n",
    "print(solution,\"\".join([i for i in solution if i in vowels]),out,\"\\n\") \n",
    "\n",
    "print(\"=> Swap o and i from limo\")\n",
    "print(\"South Asian (9,12)\")\n",
    "solution = 'subcontinental'\n",
    "letters =[9,12]\n",
    "out = getter(solution,letters)\n",
    "answer += out\n",
    "print(solution,\"\".join([i for i in solution if i in vowels]),out,\"\\n\") \n",
    "\n",
    "print(\"The 5th question is: \",\"\".join(answer))"
   ]
  },
  {
   "cell_type": "code",
   "execution_count": 7,
   "id": "b51d2ce9-080a-4380-8b63-611a7d36eb52",
   "metadata": {},
   "outputs": [
    {
     "name": "stdout",
     "output_type": "stream",
     "text": [
      "['degustation', 'mercuration', 'depuration', 'erugation', 'exsufflation', 'equation', 'persuasion', 'pendulation', 'nebulation', 'medullation', 'februation', 'eructation', 'deplumation', 'resudation', 'peculation', 'epulation', 'eburnation', 'epuration', 'perscrutation', 'secundation', 'exudation', 'pervulgation', 'refutation', 'fecundation', 'reputation', 'sternutation', 'remutation', 'exhumation', 'menstruation', 'evulgation', 'exculpation', 'despumation', 'neuralgiform', 'detruncation', 'exundation', 'tremulation', 'emulation', 'perlustration', 'detubation', 'decrustation', 'mensuration', 'gemmulation', 'emundation', 'nervuration', 'speculation', 'cellulation', 'regulation', 'recusation', 'pregustation', 'decussation', 'perturbation', 'estruation', 'desucration', 'serrulation', 'decurvation', 'excurvation', 'recurvation', 'permutation', 'extubation', 'reluctation', 'percurration', 'denudation', 'exultation', 'neuration', 'education', 'crenulation', 'dermutation', 'expurgation', 'deputation']\n"
     ]
    }
   ],
   "source": [
    "print([i for i in words if keyfunc(i)=='euaio'])"
   ]
  },
  {
   "cell_type": "code",
   "execution_count": 8,
   "id": "7b408bba-83cf-443c-abfb-0214a27914e0",
   "metadata": {},
   "outputs": [
    {
     "data": {
      "text/markdown": [
       "### A Weird Tour\n",
       "October’s puzzle was presented without instruction on how to solve it\n",
       "and what all these clues meant. Observant solvers could gather hints\n",
       "from the title, the flavor text describing 120 (= 5!) countries with\n",
       "gradually changing dialects, the bolded names of the means of\n",
       "transport, and some of the crossword clue answers to notice that this\n",
       "puzzle was all about the five vowels on the English language (sorry Y,\n",
       "we need committed always-vowels for this puzzle). \n",
       " The crossword clues are more easily solved when one discovers that\n",
       "every answer has exactly one of each of the five vowels, and the order\n",
       "of these vowels is determined by the position the clue is along the\n",
       "journey and the names of the methods of transport: when traveling\n",
       "between two country destinations, the method of transport contains\n",
       "exactly the two consecutive vowels whose orderings are swapped in the\n",
       "names of the two countries. Furthermore, the journey begins with the\n",
       "natural ordering AEIOU and ends with the exactly opposite ordering\n",
       "UOIEA, as hinted by the flavor text. \n",
       " This extra constraint helps narrow down the answers of the clues: \n",
       " Unserious - FACETIOUS (AEIOU) \n",
       " plane \n",
       " swaps AE \n",
       " Social - GREGARIOUS (EAIOU) \n",
       " tour \n",
       " swaps OU \n",
       " Learning about (3 words) - READING UP ON (EAIUO) \n",
       " big bus \n",
       " swaps IU \n",
       " Weakness - EXHAUSTION (EAUIO) \n",
       " subway \n",
       " swaps AU \n",
       " ??? (EUAIO) \n",
       " tunnel \n",
       " swaps EU \n",
       " Game series (2 words) - SUPER MARIO (UEAIO) \n",
       " train \n",
       " swaps AI \n",
       " Superstar artist (2 words) - LUPE FIASCO (UEIAO) \n",
       " boat \n",
       " swaps AO \n",
       " Sign of doubt (2 words) - QUESTION MARK (UEIOA) \n",
       " bike \n",
       " swaps EI \n",
       " Exec - BUSINESSWOMAN (UIEOA) \n",
       " horse \n",
       " swaps EO \n",
       " Suddenly emote (3 words) - BURST INTO TEARS (UIOEA) \n",
       " limo \n",
       " swaps IO \n",
       " South Asian - SUBCONTINENTAL (UOIEA) \n",
       " We are asked to fill in the fifth country in the tour, which we expect\n",
       "to have vowel ordering EUAIO, but we don’t have a crossword clue for\n",
       "it! Now we use the extra numbers at the ends of the existing clues,\n",
       "and if we read off the letters from the answers we’ve found so far we\n",
       "get GROUP ELEMENT. This can serve as the crossword clue for the fifth\n",
       "country, which appropriately can be found to be \n",
       " PERMUTATION \n",
       " ."
      ],
      "text/plain": [
       "<IPython.core.display.Markdown object>"
      ]
     },
     "metadata": {},
     "output_type": "display_data"
    }
   ],
   "source": [
    "url='https://www.janestreet.com/puzzles/a-weird-tour-solution/'\n",
    "res = requests.get(url)\n",
    "soup = BeautifulSoup(res.content, 'html.parser')\n",
    "y =[text for text in soup.body.stripped_strings]\n",
    "#display([(i,j) for i,j in enumerate(y)])\n",
    "display(Markdown(\"### \"+y[8]+\"\\n\"+\" \\n \".join(y[11:48])))"
   ]
  },
  {
   "cell_type": "code",
   "execution_count": null,
   "id": "ebe4d2a8-f118-4aa6-aa2a-fa4089dc5c22",
   "metadata": {},
   "outputs": [],
   "source": []
  }
 ],
 "metadata": {
  "kernelspec": {
   "display_name": "Python 3 (ipykernel)",
   "language": "python",
   "name": "python3"
  },
  "language_info": {
   "codemirror_mode": {
    "name": "ipython",
    "version": 3
   },
   "file_extension": ".py",
   "mimetype": "text/x-python",
   "name": "python",
   "nbconvert_exporter": "python",
   "pygments_lexer": "ipython3",
   "version": "3.10.9"
  }
 },
 "nbformat": 4,
 "nbformat_minor": 5
}
